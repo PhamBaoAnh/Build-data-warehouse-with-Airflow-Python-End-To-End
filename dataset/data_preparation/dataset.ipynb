{
 "cells": [
  {
   "cell_type": "code",
   "execution_count": null,
   "id": "36082694",
   "metadata": {},
   "outputs": [],
   "source": [
    "# Đọc file CSV\n",
    "import pandas as pd\n",
    "\n",
    "\n",
    "# table: Customer, Customer_Address, Orders, Order_Details, Product, Category, Sub_Category\n",
    "\n",
    "#Customer: customeromer_id,customer_name,segment,market,region,city,state,country\n",
    "\n",
    "\n",
    "#Orders: order_id, order_date, ship_date, ship_mode, payment, customer_id, employee_id, ship_city, ship_state, ship_country\n",
    "\n",
    "#Order_Details: order_id, product_id, quantity, discount, sales, profit\n",
    "\n",
    "#Product: product_id, product_name, price, sub_category_id\n",
    "\n",
    "#Sub_Category: sub_category_id, sub_category_name, category_id\n",
    "\n",
    "#Category: category_id, category_name\n",
    "\n",
    "\n"
   ]
  },
  {
   "cell_type": "code",
   "execution_count": null,
   "id": "9ec4dd48",
   "metadata": {},
   "outputs": [
    {
     "name": "stdout",
     "output_type": "stream",
     "text": [
      "   Row ID         Order ID Order Date  Ship Date     Ship Mode Customer ID  \\\n",
      "0   32298   CA-2012-124891 2012-07-31 2012-07-31      Same Day    RH-19495   \n",
      "1   26341    IN-2013-77878 2013-02-05 2013-02-07  Second Class    JR-16210   \n",
      "2   25330    IN-2013-71249 2013-10-17 2013-10-18   First Class    CR-12730   \n",
      "3   13524  ES-2013-1579342 2013-01-28 2013-01-30   First Class    KM-16375   \n",
      "4   47221     SG-2013-4320 2013-11-05 2013-11-06      Same Day     RH-9495   \n",
      "\n",
      "      Customer Name      Segment           City            State  ...  \\\n",
      "0       Rick Hansen     Consumer  New York City         New York  ...   \n",
      "1     Justin Ritter    Corporate     Wollongong  New South Wales  ...   \n",
      "2      Craig Reiter     Consumer       Brisbane       Queensland  ...   \n",
      "3  Katherine Murray  Home Office         Berlin           Berlin  ...   \n",
      "4       Rick Hansen     Consumer          Dakar            Dakar  ...   \n",
      "\n",
      "         Product ID    Category Sub-Category  \\\n",
      "0   TEC-AC-10003033  Technology  Accessories   \n",
      "1   FUR-CH-10003950   Furniture       Chairs   \n",
      "2   TEC-PH-10004664  Technology       Phones   \n",
      "3   TEC-PH-10004583  Technology       Phones   \n",
      "4  TEC-SHA-10000501  Technology      Copiers   \n",
      "\n",
      "                                        Product Name     Sales Quantity  \\\n",
      "0  Plantronics CS510 - Over-the-Head monaural Wir...  2309.650        7   \n",
      "1          Novimex Executive Leather Armchair, Black  3709.395        9   \n",
      "2                  Nokia Smart Phone, with Caller ID  5175.171        9   \n",
      "3                     Motorola Smart Phone, Cordless  2892.510        5   \n",
      "4                     Sharp Wireless Fax, High-Speed  2832.960        8   \n",
      "\n",
      "  Discount    Profit  Shipping Cost  Order Priority  \n",
      "0      0.0  762.1845         933.57        Critical  \n",
      "1      0.1 -288.7650         923.63        Critical  \n",
      "2      0.1  919.9710         915.49          Medium  \n",
      "3      0.1  -96.5400         910.16          Medium  \n",
      "4      0.0  311.5200         903.04        Critical  \n",
      "\n",
      "[5 rows x 24 columns]\n",
      "['Row ID', 'Order ID', 'Order Date', 'Ship Date', 'Ship Mode', 'Customer ID', 'Customer Name', 'Segment', 'City', 'State', 'Country', 'Postal Code', 'Market', 'Region', 'Product ID', 'Category', 'Sub-Category', 'Product Name', 'Sales', 'Quantity', 'Discount', 'Profit', 'Shipping Cost', 'Order Priority']\n"
     ]
    }
   ],
   "source": [
    "import pandas as pd\n",
    "df = pd.read_excel('GlobalSuperstore.xlsx')\n",
    "\n",
    "print(df.head())\n",
    "print(df.columns.tolist())\n"
   ]
  },
  {
   "cell_type": "code",
   "execution_count": null,
   "id": "19453972",
   "metadata": {},
   "outputs": [],
   "source": [
    "\n",
    "\n",
    "\n",
    "customer_df = df[['Customer ID', 'Customer Name', 'Segment', 'Market', 'Region', 'City', 'State', 'Country']].drop_duplicates()\n",
    "\n",
    "customer_df = customer_df.rename(columns={\n",
    "    'Customer ID': 'customer_id',\n",
    "    'Customer Name': 'customer_name',\n",
    "    'Segment': 'segment',\n",
    "    'Market': 'market',\n",
    "    'Region': 'region',\n",
    "    'City': 'city',\n",
    "    'State': 'state',\n",
    "    'Country': 'country'\n",
    "})\n",
    "\n",
    "\n",
    "customer_df.to_csv('Customer.csv', index=False)\n"
   ]
  },
  {
   "cell_type": "code",
   "execution_count": 10,
   "id": "435f8cbd",
   "metadata": {},
   "outputs": [],
   "source": [
    "\n",
    "category_df = df[['Category']].drop_duplicates().reset_index(drop=True)\n",
    "category_df['category_id'] = category_df.index + 1\n",
    "category_df = category_df[['category_id', 'Category']].rename(columns={'Category': 'category_name'})\n",
    "category_df.to_csv('Customer.csv', index=False)"
   ]
  },
  {
   "cell_type": "code",
   "execution_count": 11,
   "id": "fdc06cc9",
   "metadata": {},
   "outputs": [],
   "source": [
    "sub_category_df = df[['Sub-Category', 'Category']].drop_duplicates().reset_index(drop=True)\n",
    "sub_category_df = sub_category_df.merge(category_df, left_on='Category', right_on='category_name')\n",
    "sub_category_df['sub_category_id'] = sub_category_df.index + 1\n",
    "sub_category_df = sub_category_df[['sub_category_id', 'Sub-Category', 'category_id']].rename(columns={'Sub-Category': 'sub_category_name'})\n",
    "sub_category_df.to_csv('Sub_Category.csv', index=False)"
   ]
  },
  {
   "cell_type": "code",
   "execution_count": null,
   "id": "ce61eaa0",
   "metadata": {},
   "outputs": [],
   "source": [
    "\n",
    "product_df = df[['Product ID', 'Product Name', 'Sub-Category', 'Sales']].drop_duplicates(subset='Product ID')\n",
    "product_df = product_df.merge(sub_category_df, left_on='Sub-Category', right_on='sub_category_name')\n",
    "product_df = product_df.rename(columns={'Product ID': 'product_id', 'Product Name': 'product_name', 'Sales': 'price'})\n",
    "product_df = product_df[['product_id', 'product_name', 'price', 'sub_category_id']]\n",
    "product_df.to_csv('Product.csv', index=False)"
   ]
  },
  {
   "cell_type": "code",
   "execution_count": null,
   "id": "a1729197",
   "metadata": {},
   "outputs": [],
   "source": [
    "\n",
    "\n",
    "orders_df = df[['Order ID', 'Customer ID', 'City', 'State', 'Country',\n",
    "                'Order Date', 'Ship Date', 'Ship Mode']].drop_duplicates()\n",
    "\n",
    "orders_df = orders_df.rename(columns={\n",
    "    'Order ID': 'order_id',\n",
    "    'Order Date': 'order_date',\n",
    "    'Ship Date': 'ship_date',\n",
    "    'Ship Mode': 'ship_mode',\n",
    "    'Customer ID': 'customer_id',\n",
    "    'City': 'ship_city',\n",
    "    'State': 'ship_state',\n",
    "    'Country': 'ship_country'\n",
    "})\n",
    "\n",
    "\n",
    "orders_df.to_csv('Orders.csv', index=False)\n"
   ]
  },
  {
   "cell_type": "code",
   "execution_count": 20,
   "id": "8c6922b8",
   "metadata": {},
   "outputs": [
    {
     "name": "stdout",
     "output_type": "stream",
     "text": [
      "['index', 'Row ID', 'Order ID', 'Order Date', 'Ship Date', 'Ship Mode', 'Customer ID', 'Customer Name', 'Segment', 'City', 'State', 'Country', 'Postal Code', 'Market', 'Region', 'Product ID', 'Category', 'Sub-Category', 'Product Name', 'Sales', 'Quantity', 'Discount', 'Profit', 'Shipping Cost', 'Order Priority']\n"
     ]
    }
   ],
   "source": [
    "print(df.columns.tolist())\n"
   ]
  },
  {
   "cell_type": "code",
   "execution_count": 23,
   "id": "4f9676f1",
   "metadata": {
    "vscode": {
     "languageId": "javascript"
    }
   },
   "outputs": [],
   "source": [
    "\n",
    "\n",
    "order_details_df = df[['Order ID', 'Product ID', 'Quantity', 'Discount', 'Sales', 'Profit']].drop_duplicates()\n",
    "\n",
    "order_details_df = order_details_df.rename(columns={\n",
    "    'Order ID': 'order_id',\n",
    "    'Product ID': 'product_id',\n",
    "    'Quantity': 'quantity',\n",
    "    'Discount': 'discount',\n",
    "    'Sales': 'sales',\n",
    "    'Profit': 'profit'\n",
    "})\n",
    "\n",
    "\n",
    "order_details_df.to_csv('Order_Details.csv', index=False)\n"
   ]
  }
 ],
 "metadata": {
  "kernelspec": {
   "display_name": ".venv",
   "language": "python",
   "name": "python3"
  },
  "language_info": {
   "codemirror_mode": {
    "name": "ipython",
    "version": 3
   },
   "file_extension": ".py",
   "mimetype": "text/x-python",
   "name": "python",
   "nbconvert_exporter": "python",
   "pygments_lexer": "ipython3",
   "version": "3.13.4"
  }
 },
 "nbformat": 4,
 "nbformat_minor": 5
}
